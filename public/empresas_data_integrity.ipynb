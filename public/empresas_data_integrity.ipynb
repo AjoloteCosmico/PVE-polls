{
 "cells": [
  {
   "cell_type": "code",
   "execution_count": 1,
   "id": "fbd9ce77",
   "metadata": {},
   "outputs": [
    {
     "name": "stdout",
     "output_type": "stream",
     "text": [
      "Conexión exitosa\n"
     ]
    }
   ],
   "source": [
    "import sys\n",
    "import xlsxwriter\n",
    "import pandas as pd\n",
    "import sys\n",
    "import psycopg2\n",
    "import os\n",
    "from dotenv import load_dotenv\n",
    "from datetime import date\n",
    "\n",
    "today = date.today()\n",
    "load_dotenv()\n",
    "\n",
    "#configurar la conexion a la base de datos\n",
    "DB_USERNAME = os.getenv('DB_USERNAME')\n",
    "DB_DATABASE = os.getenv('DB_DATABASE')\n",
    "DB_PASSWORD = os.getenv('DB_PASSWORD')\n",
    "DB_PORT = os.getenv('DB_PORT')\n",
    "DB_HOST=os.getenv('DB_HOST')\n",
    "# Conectar a DB\n",
    "# Conectar a PostgreSQL\n",
    "try:\n",
    "    cnx = psycopg2.connect(\n",
    "        user=DB_USERNAME,\n",
    "        password=DB_PASSWORD,\n",
    "        host=DB_HOST,\n",
    "        port=DB_PORT,\n",
    "        database=DB_DATABASE\n",
    "    )\n",
    "    print(\"Conexión exitosa\")\n",
    "except psycopg2.Error as e:\n",
    "    print(\"Ocurrió un error al conectar a la base de datos:\", e)\n"
   ]
  },
  {
   "cell_type": "code",
   "execution_count": 2,
   "id": "31141693",
   "metadata": {},
   "outputs": [
    {
     "name": "stderr",
     "output_type": "stream",
     "text": [
      "c:\\Users\\fgonzalez\\AppData\\Local\\Programs\\Python\\Python310\\lib\\site-packages\\pandas\\io\\sql.py:762: UserWarning: pandas only support SQLAlchemy connectable(engine/connection) ordatabase string URI or sqlite3 DBAPI2 connectionother DBAPI2 objects are not tested, please consider using SQLAlchemy\n",
      "  warnings.warn(\n"
     ]
    }
   ],
   "source": [
    "empresas=pd.read_sql(\"select * from empresas\", cnx)"
   ]
  },
  {
   "cell_type": "code",
   "execution_count": 8,
   "id": "f27276f5",
   "metadata": {},
   "outputs": [
    {
     "name": "stderr",
     "output_type": "stream",
     "text": [
      "c:\\Users\\fgonzalez\\AppData\\Local\\Programs\\Python\\Python310\\lib\\site-packages\\pandas\\io\\sql.py:762: UserWarning: pandas only support SQLAlchemy connectable(engine/connection) ordatabase string URI or sqlite3 DBAPI2 connectionother DBAPI2 objects are not tested, please consider using SQLAlchemy\n",
      "  warnings.warn(\n"
     ]
    }
   ],
   "source": [
    "encuestas20= pd.read_sql(\"select * from respuestas20\", cnx)"
   ]
  },
  {
   "cell_type": "code",
   "execution_count": 1,
   "id": "812cdf0a",
   "metadata": {},
   "outputs": [],
   "source": [
    "import re\n",
    "def normalize(old):\n",
    "    \"\"\"\n",
    "    Removes common accent characters, lower form.\n",
    "    Uses: regex.\n",
    "    \"\"\"\n",
    "    if not isinstance(old, str):\n",
    "        return old\n",
    "    new = old.lower()\n",
    "    new = re.sub(r'[àáâãäå]', 'a', new)\n",
    "    new = re.sub(r'[èéêë]', 'e', new)\n",
    "    new = re.sub(r'[ìíîï]', 'i', new)\n",
    "    new = re.sub(r'[òóôõö]', 'o', new)\n",
    "    new = re.sub(r'[ùúûü]', 'u', new)\n",
    "    new = re.sub(r'[,]', '', new)\n",
    "    return new"
   ]
  },
  {
   "cell_type": "code",
   "execution_count": 3,
   "id": "6c477daa",
   "metadata": {},
   "outputs": [
    {
     "data": {
      "text/plain": [
       "'atencion2'"
      ]
     },
     "execution_count": 3,
     "metadata": {},
     "output_type": "execute_result"
    }
   ],
   "source": [
    "normalize('Atención,2')"
   ]
  },
  {
   "cell_type": "code",
   "execution_count": 46,
   "id": "ad2578b7",
   "metadata": {},
   "outputs": [],
   "source": [
    "empresas['nombre']= empresas['nombre'].apply(lambda x: normalize(x))\n",
    "encuestas20['ncr2']= encuestas20['ncr2'].apply(lambda x: normalize(x))"
   ]
  },
  {
   "cell_type": "code",
   "execution_count": 47,
   "id": "96662701",
   "metadata": {},
   "outputs": [
    {
     "name": "stdout",
     "output_type": "stream",
     "text": [
      "1583\n",
      "coinciden tu\n",
      "coinciden tu\n",
      "coinciden tu\n",
      "coinciden tu\n",
      "coinciden tu\n",
      "coinciden tu\n",
      "coinciden tu\n",
      "coinciden tu\n",
      "coinciden tu\n",
      "coinciden tu\n",
      "sedatu, direccion general de concertacion agraria y mediacion | secretaria de desarrollo agrario, territorial y urbano (sedatu), direccion general de concertacion agraria y mediacion\n",
      "unam, fes aragon | unam fes aragon\n",
      "coinciden tu\n",
      "coinciden tu\n",
      "coinciden tu\n",
      "coinciden tu\n",
      "coinciden tu\n",
      "coinciden tu\n",
      "coinciden tu\n",
      "coinciden tu\n",
      "coinciden tu\n",
      "coinciden tu\n",
      "coinciden tu\n",
      "coinciden tu\n",
      "coinciden tu\n",
      "coinciden tu\n",
      "coinciden tu\n",
      "coinciden tu\n",
      "coinciden tu\n",
      "coinciden tu\n",
      "coinciden tu\n",
      "coinciden tu\n",
      "coinciden tu\n",
      "coinciden tu\n",
      "coinciden tu\n",
      "coinciden tu\n",
      "scayle | scaile\n",
      "coinciden tu\n",
      "coinciden tu\n",
      "coinciden tu\n",
      "coinciden tu\n",
      "coinciden tu\n",
      "coinciden tu\n",
      "coinciden tu\n",
      "coinciden tu\n",
      "coinciden tu\n",
      "coinciden tu\n",
      "coinciden tu\n",
      "coinciden tu\n",
      "coinciden tu\n"
     ]
    }
   ],
   "source": [
    "empresas_reg=empresas.loc[empresas['registro'].notna()]\n",
    "print(len(empresas_reg))\n",
    "for i in range(50):\n",
    "    #comparar nombres\n",
    "    name_empresa=empresas_reg.iloc[i]['nombre']\n",
    "    name_encuesta=encuestas20.loc[encuestas20['registro']==empresas_reg.iloc[i]['registro']]['ncr2'].values[0]\n",
    "    if ((name_encuesta.find(name_empresa) != -1)):\n",
    "        print('coinciden tu')\n",
    "    else:\n",
    "        print(name_empresa,'|', name_encuesta)"
   ]
  },
  {
   "cell_type": "code",
   "execution_count": null,
   "id": "f19156f7",
   "metadata": {},
   "outputs": [],
   "source": []
  },
  {
   "cell_type": "code",
   "execution_count": 10,
   "id": "62f8e8ff",
   "metadata": {},
   "outputs": [
    {
     "name": "stdout",
     "output_type": "stream",
     "text": [
      "               <div class=\"col\">\n",
      "                  @if($Encuesta->sec_a==1)\n",
      "                         <a class=\"btn boton-verde\" id=\"btn-A\" href=\"{route('edit_22',[$Encuesta->registro,'A'])}\"> <i class=\"fas fa-check-circle\" aria-hidden=\"true\"></i> Sección A </a>\n",
      "               \n",
      "                    @else\n",
      "                         <a class=\"btn boton-dorado\" id=\"btn-A\" href=\"{route('edit_22',[$Encuesta->registro,'A'])}\">Sección A</a>\n",
      "               \n",
      "                    @endif\n",
      "                </div>\n",
      "               <div class=\"col\">\n",
      "                  @if($Encuesta->sec_e==1)\n",
      "                         <a class=\"btn boton-verde\" id=\"btn-E\" href=\"{route('edit_22',[$Encuesta->registro,'E'])}\"> <i class=\"fas fa-check-circle\" aria-hidden=\"true\"></i> Sección E </a>\n",
      "               \n",
      "                    @else\n",
      "                         <a class=\"btn boton-dorado\" id=\"btn-E\" href=\"{route('edit_22',[$Encuesta->registro,'E'])}\">Sección E</a>\n",
      "               \n",
      "                    @endif\n",
      "                </div>\n",
      "               <div class=\"col\">\n",
      "                  @if($Encuesta->sec_f==1)\n",
      "                         <a class=\"btn boton-verde\" id=\"btn-F\" href=\"{route('edit_22',[$Encuesta->registro,'F'])}\"> <i class=\"fas fa-check-circle\" aria-hidden=\"true\"></i> Sección F </a>\n",
      "               \n",
      "                    @else\n",
      "                         <a class=\"btn boton-dorado\" id=\"btn-F\" href=\"{route('edit_22',[$Encuesta->registro,'F'])}\">Sección F</a>\n",
      "               \n",
      "                    @endif\n",
      "                </div>\n",
      "               <div class=\"col\">\n",
      "                  @if($Encuesta->sec_c==1)\n",
      "                         <a class=\"btn boton-verde\" id=\"btn-C\" href=\"{route('edit_22',[$Encuesta->registro,'C'])}\"> <i class=\"fas fa-check-circle\" aria-hidden=\"true\"></i> Sección C </a>\n",
      "               \n",
      "                    @else\n",
      "                         <a class=\"btn boton-dorado\" id=\"btn-C\" href=\"{route('edit_22',[$Encuesta->registro,'C'])}\">Sección C</a>\n",
      "               \n",
      "                    @endif\n",
      "                </div>\n",
      "               <div class=\"col\">\n",
      "                  @if($Encuesta->sec_d==1)\n",
      "                         <a class=\"btn boton-verde\" id=\"btn-D\" href=\"{route('edit_22',[$Encuesta->registro,'D'])}\"> <i class=\"fas fa-check-circle\" aria-hidden=\"true\"></i> Sección D </a>\n",
      "               \n",
      "                    @else\n",
      "                         <a class=\"btn boton-dorado\" id=\"btn-D\" href=\"{route('edit_22',[$Encuesta->registro,'D'])}\">Sección D</a>\n",
      "               \n",
      "                    @endif\n",
      "                </div>\n",
      "               <div class=\"col\">\n",
      "                  @if($Encuesta->sec_g==1)\n",
      "                         <a class=\"btn boton-verde\" id=\"btn-G\" href=\"{route('edit_22',[$Encuesta->registro,'G'])}\"> <i class=\"fas fa-check-circle\" aria-hidden=\"true\"></i> Sección G </a>\n",
      "               \n",
      "                    @else\n",
      "                         <a class=\"btn boton-dorado\" id=\"btn-G\" href=\"{route('edit_22',[$Encuesta->registro,'G'])}\">Sección G</a>\n",
      "               \n",
      "                    @endif\n",
      "                </div>\n"
     ]
    }
   ],
   "source": [
    "for i in ['A','E','F','C','D','G']:\n",
    "    print(f\"\"\"               <div class=\"col\">\n",
    "                  @if($Encuesta->sec_{i.lower()}==1)\n",
    "                         <a class=\"btn boton-verde\" id=\"btn-{i}\" href=\"{{route('edit_22',[$Encuesta->registro,'{i}'])}}\"> <i class=\"fas fa-check-circle\" aria-hidden=\"true\"></i> Sección {i} </a>\n",
    "               \n",
    "                    @else\n",
    "                         <a class=\"btn boton-dorado\" id=\"btn-{i}\" href=\"{{route('edit_22',[$Encuesta->registro,'{i}'])}}\">Sección {i}</a>\n",
    "               \n",
    "                    @endif\n",
    "                </div>\"\"\")"
   ]
  },
  {
   "cell_type": "code",
   "execution_count": null,
   "id": "ad3e3f31",
   "metadata": {},
   "outputs": [],
   "source": []
  },
  {
   "cell_type": "code",
   "execution_count": null,
   "id": "7d08f672",
   "metadata": {},
   "outputs": [],
   "source": []
  }
 ],
 "metadata": {
  "kernelspec": {
   "display_name": "Python 3",
   "language": "python",
   "name": "python3"
  },
  "language_info": {
   "codemirror_mode": {
    "name": "ipython",
    "version": 3
   },
   "file_extension": ".py",
   "mimetype": "text/x-python",
   "name": "python",
   "nbconvert_exporter": "python",
   "pygments_lexer": "ipython3",
   "version": "3.10.7"
  }
 },
 "nbformat": 4,
 "nbformat_minor": 5
}
