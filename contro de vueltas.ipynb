{
 "cells": [
  {
   "cell_type": "code",
   "execution_count": 14,
   "metadata": {},
   "outputs": [
    {
     "name": "stdout",
     "output_type": "stream",
     "text": [
      "Collecting mysql-connector-python\n",
      "  Downloading mysql_connector_python-9.3.0-cp311-cp311-win_amd64.whl.metadata (7.5 kB)\n",
      "Downloading mysql_connector_python-9.3.0-cp311-cp311-win_amd64.whl (16.4 MB)\n",
      "   ---------------------------------------- 0.0/16.4 MB ? eta -:--:--\n",
      "   ---------------------------------------- 0.0/16.4 MB 330.3 kB/s eta 0:00:50\n",
      "   ---------------------------------------- 0.1/16.4 MB 787.7 kB/s eta 0:00:21\n",
      "    --------------------------------------- 0.2/16.4 MB 1.8 MB/s eta 0:00:09\n",
      "   - -------------------------------------- 0.5/16.4 MB 3.0 MB/s eta 0:00:06\n",
      "   -- ------------------------------------- 0.9/16.4 MB 4.4 MB/s eta 0:00:04\n",
      "   -- ------------------------------------- 0.9/16.4 MB 4.4 MB/s eta 0:00:04\n",
      "   ---- ----------------------------------- 2.0/16.4 MB 6.6 MB/s eta 0:00:03\n",
      "   ----- ---------------------------------- 2.3/16.4 MB 6.3 MB/s eta 0:00:03\n",
      "   ------ --------------------------------- 2.5/16.4 MB 6.6 MB/s eta 0:00:03\n",
      "   -------- ------------------------------- 3.4/16.4 MB 7.7 MB/s eta 0:00:02\n",
      "   --------- ------------------------------ 3.9/16.4 MB 8.1 MB/s eta 0:00:02\n",
      "   ---------- ----------------------------- 4.5/16.4 MB 8.4 MB/s eta 0:00:02\n",
      "   ------------ --------------------------- 5.0/16.4 MB 8.6 MB/s eta 0:00:02\n",
      "   ------------- -------------------------- 5.6/16.4 MB 8.9 MB/s eta 0:00:02\n",
      "   -------------- ------------------------- 6.1/16.4 MB 9.0 MB/s eta 0:00:02\n",
      "   ---------------- ----------------------- 6.6/16.4 MB 9.2 MB/s eta 0:00:02\n",
      "   ----------------- ---------------------- 7.2/16.4 MB 9.4 MB/s eta 0:00:01\n",
      "   ------------------ --------------------- 7.7/16.4 MB 9.5 MB/s eta 0:00:01\n",
      "   -------------------- ------------------- 8.3/16.4 MB 9.6 MB/s eta 0:00:01\n",
      "   --------------------- ------------------ 8.8/16.4 MB 9.7 MB/s eta 0:00:01\n",
      "   ---------------------- ----------------- 9.3/16.4 MB 9.8 MB/s eta 0:00:01\n",
      "   ------------------------ --------------- 9.9/16.4 MB 9.9 MB/s eta 0:00:01\n",
      "   ------------------------- -------------- 10.4/16.4 MB 11.1 MB/s eta 0:00:01\n",
      "   -------------------------- ------------- 11.0/16.4 MB 11.5 MB/s eta 0:00:01\n",
      "   ---------------------------- ----------- 11.5/16.4 MB 12.4 MB/s eta 0:00:01\n",
      "   ----------------------------- ---------- 12.1/16.4 MB 11.7 MB/s eta 0:00:01\n",
      "   ------------------------------ --------- 12.6/16.4 MB 11.9 MB/s eta 0:00:01\n",
      "   -------------------------------- ------- 13.2/16.4 MB 12.4 MB/s eta 0:00:01\n",
      "   --------------------------------- ------ 13.7/16.4 MB 11.9 MB/s eta 0:00:01\n",
      "   ---------------------------------- ----- 14.2/16.4 MB 11.9 MB/s eta 0:00:01\n",
      "   ------------------------------------ --- 14.8/16.4 MB 11.9 MB/s eta 0:00:01\n",
      "   ------------------------------------- -- 15.3/16.4 MB 11.9 MB/s eta 0:00:01\n",
      "   -------------------------------------- - 15.9/16.4 MB 11.9 MB/s eta 0:00:01\n",
      "   ---------------------------------------  16.4/16.4 MB 11.7 MB/s eta 0:00:01\n",
      "   ---------------------------------------- 16.4/16.4 MB 11.5 MB/s eta 0:00:00\n",
      "Installing collected packages: mysql-connector-python\n",
      "Successfully installed mysql-connector-python-9.3.0\n",
      "Note: you may need to restart the kernel to use updated packages.\n"
     ]
    },
    {
     "name": "stderr",
     "output_type": "stream",
     "text": [
      "\n",
      "[notice] A new release of pip is available: 24.0 -> 25.1.1\n",
      "[notice] To update, run: C:\\Users\\dperez\\AppData\\Local\\Microsoft\\WindowsApps\\PythonSoftwareFoundation.Python.3.11_qbz5n2kfra8p0\\python.exe -m pip install --upgrade pip\n"
     ]
    }
   ],
   "source": [
    "pip install mysql-connector-python\n"
   ]
  },
  {
   "cell_type": "code",
   "execution_count": 19,
   "metadata": {},
   "outputs": [],
   "source": [
    "import mysql.connector\n",
    "import sys\n",
    "import xlsxwriter\n",
    "import pandas as pd\n",
    "import sys\n",
    "import psycopg2\n",
    "import os\n",
    "from dotenv import load_dotenv\n",
    "from datetime import date\n",
    "\n",
    "today = date.today()\n",
    "load_dotenv()\n",
    "\n",
    "#configurar la conexion a la base de datos\n",
    "DB_USERNAME = os.getenv('DB_USERNAME','root')\n",
    "DB_DATABASE = os.getenv('DB_DATABASE','base_prueba')\n",
    "DB_PASSWORD = os.getenv('DB_PASSWORD','')\n",
    "DB_PORT = os.getenv('DB_PORT','3306')\n",
    "DB_HOST=os.getenv('DB_HOST','127.0.0.1')\n",
    "\n",
    "cnx = mysql.connector.connect(\n",
    "    user=DB_USERNAME,\n",
    "    password=DB_PASSWORD,\n",
    "    host=DB_HOST,\n",
    "    port=DB_PORT,\n",
    "    database=DB_DATABASE\n",
    "    )\n",
    "   "
   ]
  },
  {
   "cell_type": "code",
   "execution_count": 20,
   "metadata": {},
   "outputs": [
    {
     "name": "stdout",
     "output_type": "stream",
     "text": [
      "('base_prueba',)\n"
     ]
    }
   ],
   "source": [
    "cur = cnx.cursor()\n",
    "\n",
    "cur.execute(\"SELECT DATABASE();\")\n",
    "print(cur.fetchone())"
   ]
  },
  {
   "cell_type": "code",
   "execution_count": 21,
   "metadata": {},
   "outputs": [
    {
     "name": "stderr",
     "output_type": "stream",
     "text": [
      "C:\\Users\\dperez\\AppData\\Local\\Temp\\ipykernel_29048\\548551767.py:1: UserWarning: pandas only supports SQLAlchemy connectable (engine/connection) or database string URI or sqlite3 DBAPI2 connection. Other DBAPI2 objects are not tested. Please consider using SQLAlchemy.\n",
      "  recados=pd.read_sql(\"SELECT * FROM recados\",cnx)\n",
      "C:\\Users\\dperez\\AppData\\Local\\Temp\\ipykernel_29048\\548551767.py:2: UserWarning: pandas only supports SQLAlchemy connectable (engine/connection) or database string URI or sqlite3 DBAPI2 connection. Other DBAPI2 objects are not tested. Please consider using SQLAlchemy.\n",
      "  egresados=pd.read_sql(\"SELECT * FROM egresados\",cnx)\n",
      "C:\\Users\\dperez\\AppData\\Local\\Temp\\ipykernel_29048\\548551767.py:3: UserWarning: pandas only supports SQLAlchemy connectable (engine/connection) or database string URI or sqlite3 DBAPI2 connection. Other DBAPI2 objects are not tested. Please consider using SQLAlchemy.\n",
      "  carreras=pd.read_sql(\"SELECT * FROM carreras\",cnx)\n",
      "C:\\Users\\dperez\\AppData\\Local\\Temp\\ipykernel_29048\\548551767.py:4: UserWarning: pandas only supports SQLAlchemy connectable (engine/connection) or database string URI or sqlite3 DBAPI2 connection. Other DBAPI2 objects are not tested. Please consider using SQLAlchemy.\n",
      "  usuarios=pd.read_sql(\"SELECT * FROM users\",cnx)\n"
     ]
    }
   ],
   "source": [
    "recados=pd.read_sql(\"SELECT * FROM recados\",cnx)\n",
    "egresados=pd.read_sql(\"SELECT * FROM egresados\",cnx)\n",
    "carreras=pd.read_sql(\"SELECT * FROM carreras\",cnx)\n",
    "usuarios=pd.read_sql(\"SELECT * FROM users\",cnx)"
   ]
  },
  {
   "cell_type": "code",
   "execution_count": 22,
   "metadata": {},
   "outputs": [
    {
     "name": "stderr",
     "output_type": "stream",
     "text": [
      "C:\\Users\\dperez\\AppData\\Local\\Temp\\ipykernel_29048\\3431015163.py:1: UserWarning: pandas only supports SQLAlchemy connectable (engine/connection) or database string URI or sqlite3 DBAPI2 connection. Other DBAPI2 objects are not tested. Please consider using SQLAlchemy.\n",
      "  muestras=pd.read_sql(\"SELECT * FROM muestras where estudio_id='3'\",cnx)\n"
     ]
    }
   ],
   "source": [
    "muestras=pd.read_sql(\"SELECT * FROM muestras where estudio_id='3'\",cnx)"
   ]
  },
  {
   "cell_type": "code",
   "execution_count": 23,
   "metadata": {},
   "outputs": [
    {
     "name": "stderr",
     "output_type": "stream",
     "text": [
      "C:\\Users\\dperez\\AppData\\Local\\Temp\\ipykernel_29048\\591634635.py:1: UserWarning: pandas only supports SQLAlchemy connectable (engine/connection) or database string URI or sqlite3 DBAPI2 connection. Other DBAPI2 objects are not tested. Please consider using SQLAlchemy.\n",
      "  egresados=pd.read_sql(\"SELECT * FROM egresados\",cnx)\n"
     ]
    }
   ],
   "source": [
    "egresados=pd.read_sql(\"SELECT * FROM egresados\",cnx)"
   ]
  },
  {
   "cell_type": "code",
   "execution_count": 24,
   "metadata": {},
   "outputs": [],
   "source": [
    "recados_merge=recados.merge(egresados[['cuenta','carrera','plantel']],how='inner',on='cuenta')"
   ]
  },
  {
   "cell_type": "code",
   "execution_count": 26,
   "metadata": {},
   "outputs": [],
   "source": [
    "import datetime\n",
    "#Establecer umbral de vuelta (cuanto se entiende que es el intervalo de descanso minimo)\n",
    "\n",
    "tresh=19 #22 dias naturales¿?\n",
    "hoy=datetime.datetime.now()"
   ]
  },
  {
   "cell_type": "code",
   "execution_count": 27,
   "metadata": {},
   "outputs": [
    {
     "name": "stdout",
     "output_type": "stream",
     "text": [
      "0\n"
     ]
    }
   ],
   "source": [
    "#filtrar recados\n",
    "carrera='101'\n",
    "plantel='3'\n",
    "rec=recados_merge.loc[(recados_merge['carrera']==carrera)&(recados_merge['plantel']==plantel)]\n",
    "print(len(rec))"
   ]
  },
  {
   "cell_type": "code",
   "execution_count": null,
   "metadata": {},
   "outputs": [],
   "source": []
  },
  {
   "cell_type": "code",
   "execution_count": 28,
   "metadata": {},
   "outputs": [
    {
     "data": {
      "text/plain": [
       "327.5"
      ]
     },
     "execution_count": 28,
     "metadata": {},
     "output_type": "execute_result"
    }
   ],
   "source": [
    "655/2"
   ]
  },
  {
   "cell_type": "code",
   "execution_count": null,
   "metadata": {},
   "outputs": [],
   "source": []
  },
  {
   "cell_type": "code",
   "execution_count": 29,
   "metadata": {},
   "outputs": [],
   "source": [
    "import datetime"
   ]
  },
  {
   "cell_type": "code",
   "execution_count": 30,
   "metadata": {},
   "outputs": [],
   "source": [
    "ordered_rec=rec.sort_values(by='fecha',ascending=True)\n",
    "#dar formato a las fechas ordenadas\n",
    "ordered_rec['fecha']=ordered_rec['fecha'].astype(str).apply(lambda x: x[:10])"
   ]
  },
  {
   "cell_type": "code",
   "execution_count": 31,
   "metadata": {},
   "outputs": [
    {
     "name": "stdout",
     "output_type": "stream",
     "text": [
      "carrera 102 1 29\n"
     ]
    },
    {
     "ename": "IndexError",
     "evalue": "index 0 is out of bounds for axis 0 with size 0",
     "output_type": "error",
     "traceback": [
      "\u001b[31m---------------------------------------------------------------------------\u001b[39m",
      "\u001b[31mIndexError\u001b[39m                                Traceback (most recent call last)",
      "\u001b[36mCell\u001b[39m\u001b[36m \u001b[39m\u001b[32mIn[31]\u001b[39m\u001b[32m, line 7\u001b[39m\n\u001b[32m      5\u001b[39m rec=recados_merge.loc[(recados_merge[\u001b[33m'\u001b[39m\u001b[33mcarrera\u001b[39m\u001b[33m'\u001b[39m]==carrera)&(recados_merge[\u001b[33m'\u001b[39m\u001b[33mplantel\u001b[39m\u001b[33m'\u001b[39m]==plantel)]\n\u001b[32m      6\u001b[39m \u001b[38;5;28mprint\u001b[39m(\u001b[33m'\u001b[39m\u001b[33mcarrera\u001b[39m\u001b[33m'\u001b[39m,carrera,plantel,\u001b[38;5;28mlen\u001b[39m(rec))\n\u001b[32m----> \u001b[39m\u001b[32m7\u001b[39m fecha_inicial=datetime.datetime.strptime(\u001b[38;5;28mstr\u001b[39m(\u001b[43mordered_rec\u001b[49m\u001b[43m[\u001b[49m\u001b[33;43m'\u001b[39;49m\u001b[33;43mfecha\u001b[39;49m\u001b[33;43m'\u001b[39;49m\u001b[43m]\u001b[49m\u001b[43m.\u001b[49m\u001b[43mvalues\u001b[49m\u001b[43m[\u001b[49m\u001b[32;43m0\u001b[39;49m\u001b[43m]\u001b[49m),\u001b[33m'\u001b[39m\u001b[33m%\u001b[39m\u001b[33mY-\u001b[39m\u001b[33m%\u001b[39m\u001b[33mm-\u001b[39m\u001b[38;5;132;01m%d\u001b[39;00m\u001b[33m'\u001b[39m)\n\u001b[32m      8\u001b[39m nvuelta=\u001b[32m1\u001b[39m\n\u001b[32m      9\u001b[39m \u001b[38;5;28mprint\u001b[39m(fecha_inicial)\n",
      "\u001b[31mIndexError\u001b[39m: index 0 is out of bounds for axis 0 with size 0"
     ]
    }
   ],
   "source": [
    "for k in range(len(muestras)):\n",
    "    #filtrar recados\n",
    "    carrera=str(muestras['carrera_id'].values[k])\n",
    "    plantel=str(muestras['plantel_id'].values[k])\n",
    "    rec=recados_merge.loc[(recados_merge['carrera']==carrera)&(recados_merge['plantel']==plantel)]\n",
    "    print('carrera',carrera,plantel,len(rec))\n",
    "    fecha_inicial=datetime.datetime.strptime(str(ordered_rec['fecha'].values[0]),'%Y-%m-%d')\n",
    "    nvuelta=1\n",
    "    print(fecha_inicial)\n",
    "    for i in range(len(ordered_rec)):\n",
    "        this_fecha=datetime.datetime.strptime(str(ordered_rec['fecha'].values[i]),'%Y-%m-%d')\n",
    "        distance=this_fecha-fecha_inicial\n",
    "        if(distance.days>tresh):\n",
    "            print('esta ya viene a ser otra vuelta',i,this_fecha)\n",
    "            #Ingresar fehca inicio de la vuelta a la base\n",
    "            cur.execute(\"INSERT INTO vueltas(muestra_id,inicio,numero_vuelta,created_at) VALUES (%s, %s,%s,%s)\", (str(muestras['id'].values[k]),str(fecha_inicial),str(nvuelta),str(hoy))) \n",
    "            fecha_inicial=this_fecha\n",
    "            nvuelta=nvuelta+1\n",
    "        # print(distance,ordered_rec['fecha'].values[i])\n",
    "    cur.execute(\"INSERT INTO vueltas(muestra_id,inicio,numero_vuelta,created_at) VALUES (%s, %s,%s,%s)\", (str(muestras['id'].values[k]),fecha_inicial,str(nvuelta),hoy)) \n",
    "            "
   ]
  },
  {
   "cell_type": "code",
   "execution_count": 135,
   "metadata": {},
   "outputs": [
    {
     "name": "stderr",
     "output_type": "stream",
     "text": [
      "c:\\Users\\fgonzalez\\AppData\\Local\\Programs\\Python\\Python310\\lib\\site-packages\\pandas\\io\\sql.py:762: UserWarning: pandas only support SQLAlchemy connectable(engine/connection) ordatabase string URI or sqlite3 DBAPI2 connectionother DBAPI2 objects are not tested, please consider using SQLAlchemy\n",
      "  warnings.warn(\n"
     ]
    }
   ],
   "source": [
    "vueltas=pd.read_sql('select * from vueltas',cnx)"
   ]
  },
  {
   "cell_type": "code",
   "execution_count": 136,
   "metadata": {},
   "outputs": [
    {
     "data": {
      "text/plain": [
       "array(['1', '2', '3'], dtype=object)"
      ]
     },
     "execution_count": 136,
     "metadata": {},
     "output_type": "execute_result"
    }
   ],
   "source": [
    "vueltas['numero_vuelta'].unique()"
   ]
  },
  {
   "cell_type": "code",
   "execution_count": 137,
   "metadata": {},
   "outputs": [],
   "source": [
    "cnx.commit()"
   ]
  },
  {
   "cell_type": "code",
   "execution_count": 52,
   "metadata": {},
   "outputs": [
    {
     "data": {
      "text/plain": [
       "datetime.date(2005, 6, 1)"
      ]
     },
     "execution_count": 52,
     "metadata": {},
     "output_type": "execute_result"
    }
   ],
   "source": [
    "datetime.datetime.strptime('Jun 1 2005', '%b %d %Y').date()"
   ]
  },
  {
   "cell_type": "code",
   "execution_count": null,
   "metadata": {},
   "outputs": [
    {
     "data": {
      "text/plain": [
       "176"
      ]
     },
     "execution_count": 82,
     "metadata": {},
     "output_type": "execute_result"
    }
   ],
   "source": []
  },
  {
   "cell_type": "code",
   "execution_count": 4,
   "metadata": {},
   "outputs": [
    {
     "name": "stderr",
     "output_type": "stream",
     "text": [
      "c:\\Users\\fgonzalez\\AppData\\Local\\Programs\\Python\\Python310\\lib\\site-packages\\pandas\\io\\sql.py:762: UserWarning: pandas only support SQLAlchemy connectable(engine/connection) ordatabase string URI or sqlite3 DBAPI2 connectionother DBAPI2 objects are not tested, please consider using SQLAlchemy\n",
      "  warnings.warn(\n"
     ]
    }
   ],
   "source": [
    "reactivos=pd.read_sql('select * from reactivos',cnx)"
   ]
  },
  {
   "cell_type": "code",
   "execution_count": 1,
   "metadata": {},
   "outputs": [
    {
     "ename": "NameError",
     "evalue": "name 'reactivos' is not defined",
     "output_type": "error",
     "traceback": [
      "\u001b[31m---------------------------------------------------------------------------\u001b[39m",
      "\u001b[31mNameError\u001b[39m                                 Traceback (most recent call last)",
      "\u001b[36mCell\u001b[39m\u001b[36m \u001b[39m\u001b[32mIn[1]\u001b[39m\u001b[32m, line 1\u001b[39m\n\u001b[32m----> \u001b[39m\u001b[32m1\u001b[39m \u001b[38;5;28;01mfor\u001b[39;00m i \u001b[38;5;129;01min\u001b[39;00m \u001b[38;5;28mrange\u001b[39m(\u001b[38;5;28mlen\u001b[39m(\u001b[43mreactivos\u001b[49m)):\n\u001b[32m      2\u001b[39m     \u001b[38;5;28mprint\u001b[39m(reactivos[\u001b[33m'\u001b[39m\u001b[33mclave\u001b[39m\u001b[33m'\u001b[39m].values[i],reactivos[\u001b[33m'\u001b[39m\u001b[33mdescription\u001b[39m\u001b[33m'\u001b[39m].values[i],reactivos[\u001b[33m'\u001b[39m\u001b[33mtype\u001b[39m\u001b[33m'\u001b[39m].values[i],)\n",
      "\u001b[31mNameError\u001b[39m: name 'reactivos' is not defined"
     ]
    }
   ],
   "source": [
    "for i in range(len(reactivos)):\n",
    "    print(reactivos['clave'].values[i],reactivos['description'].values[i],reactivos['type'].values[i],)"
   ]
  },
  {
   "cell_type": "code",
   "execution_count": 2,
   "metadata": {},
   "outputs": [
    {
     "ename": "NameError",
     "evalue": "name 'reactivos' is not defined",
     "output_type": "error",
     "traceback": [
      "\u001b[31m---------------------------------------------------------------------------\u001b[39m",
      "\u001b[31mNameError\u001b[39m                                 Traceback (most recent call last)",
      "\u001b[36mCell\u001b[39m\u001b[36m \u001b[39m\u001b[32mIn[2]\u001b[39m\u001b[32m, line 1\u001b[39m\n\u001b[32m----> \u001b[39m\u001b[32m1\u001b[39m \u001b[43mreactivos\u001b[49m.orden.unique()\n",
      "\u001b[31mNameError\u001b[39m: name 'reactivos' is not defined"
     ]
    }
   ],
   "source": [
    "reactivos.orden.unique()"
   ]
  },
  {
   "cell_type": "code",
   "execution_count": null,
   "metadata": {},
   "outputs": [],
   "source": []
  }
 ],
 "metadata": {
  "kernelspec": {
   "display_name": "Python 3",
   "language": "python",
   "name": "python3"
  },
  "language_info": {
   "codemirror_mode": {
    "name": "ipython",
    "version": 3
   },
   "file_extension": ".py",
   "mimetype": "text/x-python",
   "name": "python",
   "nbconvert_exporter": "python",
   "pygments_lexer": "ipython3",
   "version": "3.10.7"
  }
 },
 "nbformat": 4,
 "nbformat_minor": 2
}
